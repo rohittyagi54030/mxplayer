{
 "cells": [
  {
   "cell_type": "code",
   "execution_count": 2,
   "metadata": {},
   "outputs": [
    {
     "name": "stdout",
     "output_type": "stream",
     "text": [
      "[34, 37, 17, 20, 52, 34, 50, 18, 5, 1, 87, 68, 60, 63, 89, 95, 65, 83, 89, 62, 112, 102, 96, 110, 78, 67, 80, 107, 108, 87, 103, 101, 117, 101, 78, 65, 103, 72, 64, 78, 117, 107, 105, 98, 74, 78, 98, 104, 85, 116, 102, 67, 62, 100, 69, 60, 86, 82, 109, 120, 115, 62, 67, 84, 117, 73, 117, 103, 61, 66, 81, 94, 60, 86, 66, 161, 122, 168, 129, 151, 178, 174, 121, 175, 149, 157, 191, 201, 214, 217, 236, 198, 215, 291, 285, 245, 266, 347, 351, 443]\n"
     ]
    }
   ],
   "source": [
    "import random\n",
    "wait_time_arr = []\n",
    "for i in range(0,101):\n",
    "    if (i<10):\n",
    "        random_number = random.randint(0, 60)\n",
    "        wait_time_arr.append(random_number)\n",
    "    elif(i>10 and i<=75):\n",
    "        random_number = random.randint(60, 120)\n",
    "        wait_time_arr.append(random_number)\n",
    "    elif(i>75 and i<=86):\n",
    "        random_number = random.randint(120, 180)\n",
    "        wait_time_arr.append(random_number)\n",
    "    elif(i>86  and i<= 93) :\n",
    "        random_number = random.randint(180, 240)\n",
    "        wait_time_arr.append(random_number)\n",
    "    elif(i>93  and i<= 97) :\n",
    "        random_number = random.randint(240, 300)\n",
    "        wait_time_arr.append(random_number)\n",
    "    elif(i>97  and i<= 99) :\n",
    "        random_number = random.randint(300, 360)\n",
    "        wait_time_arr.append(random_number)\n",
    "    elif(i>99  and i<= 100) :\n",
    "        random_number = random.randint(360, 660)\n",
    "        wait_time_arr.append(random_number)\n",
    "len(wait_time_arr)\n",
    "print(wait_time_arr)\n",
    "        \n"
   ]
  },
  {
   "cell_type": "code",
   "execution_count": 3,
   "metadata": {},
   "outputs": [
    {
     "data": {
      "text/plain": [
       "7.383333333333334"
      ]
     },
     "execution_count": 3,
     "metadata": {},
     "output_type": "execute_result"
    }
   ],
   "source": [
    "443/60"
   ]
  },
  {
   "cell_type": "code",
   "execution_count": null,
   "metadata": {},
   "outputs": [],
   "source": []
  }
 ],
 "metadata": {
  "kernelspec": {
   "display_name": "Python 3",
   "language": "python",
   "name": "python3"
  },
  "language_info": {
   "codemirror_mode": {
    "name": "ipython",
    "version": 3
   },
   "file_extension": ".py",
   "mimetype": "text/x-python",
   "name": "python",
   "nbconvert_exporter": "python",
   "pygments_lexer": "ipython3",
   "version": "3.8.10"
  },
  "orig_nbformat": 4
 },
 "nbformat": 4,
 "nbformat_minor": 2
}
